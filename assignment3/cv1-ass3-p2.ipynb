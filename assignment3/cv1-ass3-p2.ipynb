{
 "cells": [
  {
   "cell_type": "markdown",
   "metadata": {},
   "source": [
    "# Computer Vision 1 - Assignment 3 - Problem 2\n",
    "----\n",
    "Computing homography for two cameras via RANSAC.\n",
    "\n",
    "Stitch panorama picture from two images subsequently."
   ]
  },
  {
   "cell_type": "markdown",
   "metadata": {},
   "source": [
    "## Setup of working directory and loading of necessary packages"
   ]
  },
  {
   "cell_type": "code",
   "execution_count": 5,
   "metadata": {},
   "outputs": [
    {
     "name": "stdout",
     "output_type": "stream",
     "text": [
      "C:\\Users\\Max\\Documents\\jupyter-notebooks\\Julia\n"
     ]
    }
   ],
   "source": [
    "if pwd() != \"C:\\\\Users\\\\Max\\\\Documents\\\\jupyter-notebooks\\\\Julia\"\n",
    "    cd(\"C:\\\\Users\\\\Max\\\\Documents\\\\jupyter-notebooks\\\\Julia\")\n",
    "end\n",
    "println(pwd())\n",
    "using Images\n",
    "using PyPlot\n",
    "using Grid\n",
    "using JLD"
   ]
  },
  {
   "cell_type": "markdown",
   "metadata": {},
   "source": [
    "## Loads keypoints from JLD container\n",
    "\n",
    "* **Inputs**\n",
    "    \n",
    "    filename JLD container filename\n",
    "    \n",
    "    \n",
    "* **Outputs**\n",
    "    \n",
    "    keypoints1 [n x 2] keypoint locations (of left image)\n",
    "    \n",
    "    keypoints2 [m x 2] keypoint locations (of right image)\n",
    "    "
   ]
  },
  {
   "cell_type": "code",
   "execution_count": 6,
   "metadata": {
    "scrolled": true
   },
   "outputs": [
    {
     "data": {
      "text/plain": [
       "loadkeypoints (generic function with 1 method)"
      ]
     },
     "execution_count": 6,
     "metadata": {},
     "output_type": "execute_result"
    }
   ],
   "source": [
    "function loadkeypoints(filename::String) \n",
    "    keypoints1 = JLD.load(filename,\"keypoints1\");\n",
    "    keypoints2 = JLD.load(filename,\"keypoints2\");\n",
    "    \n",
    "    @assert size(keypoints1,2) == 2\n",
    "    @assert size(keypoints2,2) == 2\n",
    "    return keypoints1::Array{Int64,2}, keypoints2::Array{Int64,2}\n",
    "end"
   ]
  },
  {
   "cell_type": "markdown",
   "metadata": {},
   "source": [
    "## Compute chi-squared matrix\n",
    "----\n",
    "Computes pairwise euclidean distance for all keypoint pairs\n",
    "\n",
    "Dimension $D$ of feature vectors here equal to $128$\n",
    "\n",
    "----\n",
    "* **Inputs**\n",
    "\n",
    "    features1 [128 x n] descriptors of first image  (denoted $p$) \n",
    "    \n",
    "    features2 [128 x m] descriptors of second image (denoted $q$)\n",
    "----\n",
    "* **Outputs**\n",
    "\n",
    "    D [n x m] distance matrix.\n",
    "    \n",
    "    Entries of matrix $D$ are pairwise euclidean squared distance:\n",
    "    \n",
    "    $$D_{ij} = \\sum_{k=1}^{D}\\left(q_{jk}-p_{ik}\\right)^2$$"
   ]
  },
  {
   "cell_type": "code",
   "execution_count": 9,
   "metadata": {},
   "outputs": [
    {
     "name": "stderr",
     "output_type": "stream",
     "text": [
      "WARNING: Method definition euclideansquaredist(Array{Float64, 2}"
     ]
    },
    {
     "data": {
      "text/plain": [
       "euclideansquaredist (generic function with 1 method)"
      ]
     },
     "execution_count": 9,
     "metadata": {},
     "output_type": "execute_result"
    },
    {
     "name": "stderr",
     "output_type": "stream",
     "text": [
      ", Array{Float64, 2}) in module Main at In[8]:3 overwritten at In[9]:3.\n"
     ]
    }
   ],
   "source": [
    "function euclideansquaredist(features1::Array{Float64,2},features2::Array{Float64,2})\n",
    "    \n",
    "    dimLeft  = size(features1,2);\n",
    "    dimRight = size(features2,2);\n",
    "    D = zeros(dimLeft,dimRight);\n",
    "    for i=1:dimLeft \n",
    "        for j=1:dimRight\n",
    "            D[i,j] = sum((features2[:,j]-features1[:,i]).^2);\n",
    "        end\n",
    "    end\n",
    "\n",
    "    @assert size(D) == (size(features1,2),size(features2,2))\n",
    "    return D::Array{Float64,2}\n",
    "end"
   ]
  },
  {
   "cell_type": "markdown",
   "metadata": {},
   "source": [
    "## Match keypoints from left image to keypoints from right image using the distance matrix\n",
    "----\n",
    "* **Inputs**\n",
    "\n",
    "    p1 [n x 2] keypoints coordinates in first image\n",
    "    \n",
    "    p2 [m x 2] keypoints coordinates in second image\n",
    "    \n",
    "    D  [n x m] distance matrix \n",
    "----\n",
    "* **Outputs**\n",
    "\n",
    "    pairs [min(n,m) x 4] vector such that each row holds the coordinates of an interest point in p1 and p2"
   ]
  },
  {
   "cell_type": "code",
   "execution_count": 10,
   "metadata": {},
   "outputs": [
    {
     "data": {
      "text/plain": [
       "findmatches (generic function with 1 method)"
      ]
     },
     "execution_count": 10,
     "metadata": {},
     "output_type": "execute_result"
    }
   ],
   "source": [
    "function findmatches(p1::Array{Int,2}, p2::Array{Int,2}, D::Array{Float64,2})\n",
    "    if size(p1,1) > size(p2,1)\n",
    "        larger = p1;\n",
    "        smaller = p2;\n",
    "    else\n",
    "        larger = p2;\n",
    "        smaller = p1;\n",
    "    end\n",
    "    pairs = zeros(Int,size(smaller,1),4)\n",
    "    for i=1:size(smaller,1)\n",
    "        pairs[i,1:2] = smaller[i,:];\n",
    "        pairs[i,3:4] = larger[indmin(D[i,:]),:]\n",
    "    end\n",
    "    \n",
    "    @assert size(pairs) == (min( size(p1,1),size(p2,1)),4)\n",
    "    return pairs::Array{Int,2}\n",
    "end"
   ]
  },
  {
   "cell_type": "markdown",
   "metadata": {},
   "source": [
    "## Data & Parameters:\n",
    "\n",
    "----\n",
    "\n",
    "* Parameters\n",
    "\n",
    "    * $\\sigma$ := standard deviation for presmoothing derivatives, used by SIFT    \n",
    "\n",
    "    * ransac_threshold := maximum distance for a keypoint to be considered an inlier\n",
    "\n",
    "    * p := Probability that any given keypoint correspondence is valid\n",
    "\n",
    "    * k := Number of samples drawn per RANSAC iteration, used to compute homography\n",
    "\n",
    "    * z := Total probability of success after all RANSAC iterations\n",
    "\n",
    "----\n",
    "\n",
    "* Data\n",
    "\n",
    "    * im1,im2 := respective Image from either camera\n",
    "\n",
    "    * kp1,kp2 := keypoints detected in either image\n",
    "    \n",
    "    * features1, features2 := Features detected by SIFT algorithm"
   ]
  },
  {
   "cell_type": "code",
   "execution_count": 11,
   "metadata": {},
   "outputs": [
    {
     "name": "stdout",
     "output_type": "stream",
     "text": [
      "C:\\Users\\Max\\Documents\\jupyter-notebooks\\Julia\n"
     ]
    }
   ],
   "source": [
    "include(\"Common.jl\")\n",
    "# Parameters:\n",
    "sigma = 1.4;\n",
    "ransac_threshold = 50.0;\n",
    "p=0.5;\n",
    "k=4;\n",
    "z=0.99;\n",
    "# Data\n",
    "im1 = Float64.(PyPlot.imread(\"a3p2a.png\"));\n",
    "im2 = Float64.(PyPlot.imread(\"a3p2b.png\"));\n",
    "println(pwd())\n",
    "kp1,kp2 = loadkeypoints(\"keypoints.jld\");\n",
    "features1 = Common.sift(kp1, im1, sigma);\n",
    "features2 = Common.sift(kp2, im2, sigma);\n"
   ]
  },
  {
   "cell_type": "markdown",
   "metadata": {},
   "source": [
    "## RANSAC algorithm to estimate homography"
   ]
  },
  {
   "cell_type": "code",
   "execution_count": 13,
   "metadata": {},
   "outputs": [
    {
     "data": {
      "text/plain": [
       "10×10 Array{Float64,2}:\n",
       " 0.837253  0.774586  0.552019   0.00616342  …  0.333802  0.149125  0.329312 \n",
       " 0.821227  0.63416   0.10211    0.820734       0.122835  0.456332  0.0508534\n",
       " 0.652726  0.369218  0.64227    0.664721       0.352634  0.169936  0.651129 \n",
       " 0.327661  0.164057  0.113532   0.341892       0.83664   0.100279  0.932827 \n",
       " 0.902292  0.126359  0.859571   0.0478882      0.622509  0.697004  0.700652 \n",
       " 0.114202  0.577459  0.989234   0.739662    …  0.728106  0.745997  0.680774 \n",
       " 0.360921  0.609849  0.919518   0.197528       0.654225  0.699731  0.169788 \n",
       " 0.474905  0.216183  0.0213359  0.216482       0.139892  0.406547  0.378065 \n",
       " 0.143901  0.8927    0.25097    0.860465       0.367379  0.696621  0.660413 \n",
       " 0.163213  0.953219  0.741503   0.887771       0.497133  0.834335  0.372268 "
      ]
     },
     "execution_count": 13,
     "metadata": {},
     "output_type": "execute_result"
    }
   ],
   "source": [
    "# compute chi-square distance  matrix\n",
    "D = euclideansquaredist(features1,features2)\n",
    "# find matching pairs\n",
    "pairs = findmatches(kp1,kp2,D)\n",
    "# show matches\n",
    "#showmatches(im1,im2,pairs)\n",
    "#title(\"Putative Matching Pairs\")\n",
    "# compute number of iterations for the RANSAC algorithm\n",
    "# niterations = computeransaciterations(p,k,z)\n",
    "# apply RANSAC\n",
    "# bestinliers,bestpairs,bestH = ransac(pairs,ransac_threshold,niterations)\n",
    "test = rand(10,10)"
   ]
  },
  {
   "cell_type": "code",
   "execution_count": 16,
   "metadata": {},
   "outputs": [
    {
     "name": "stdout",
     "output_type": "stream",
     "text": [
      "size(pairs) = (123,4)\n",
      "size(kp1) = (123,2)\n",
      "size(kp2) = (140,2)\n"
     ]
    },
    {
     "data": {
      "text/plain": [
       "(140,2)"
      ]
     },
     "execution_count": 16,
     "metadata": {},
     "output_type": "execute_result"
    }
   ],
   "source": [
    "@show size(pairs)\n",
    "@show size(kp1)\n",
    "@show size(kp2)"
   ]
  },
  {
   "cell_type": "code",
   "execution_count": null,
   "metadata": {
    "collapsed": true
   },
   "outputs": [],
   "source": []
  }
 ],
 "metadata": {
  "kernelspec": {
   "display_name": "Julia 0.5.2",
   "language": "julia",
   "name": "julia-0.5"
  },
  "language_info": {
   "file_extension": ".jl",
   "mimetype": "application/julia",
   "name": "julia",
   "version": "0.5.2"
  },
  "toc": {
   "nav_menu": {},
   "number_sections": true,
   "sideBar": true,
   "skip_h1_title": false,
   "toc_cell": false,
   "toc_position": {
    "height": "871px",
    "left": "0px",
    "right": "1658px",
    "top": "107px",
    "width": "262px"
   },
   "toc_section_display": "block",
   "toc_window_display": false
  }
 },
 "nbformat": 4,
 "nbformat_minor": 1
}
